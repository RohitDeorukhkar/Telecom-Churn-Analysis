{
  "nbformat": 4,
  "nbformat_minor": 0,
  "metadata": {
    "colab": {
      "private_outputs": true,
      "provenance": [],
      "collapsed_sections": [
        "mDgbUHAGgjLW",
        "3RnN4peoiCZX",
        "x71ZqKXriCWQ",
        "7hBIi_osiCS2",
        "JlHwYmJAmNHm",
        "35m5QtbWiB9F",
        "PoPl-ycgm1ru",
        "H0kj-8xxnORC",
        "nA9Y7ga8ng1Z",
        "PBTbrJXOngz2",
        "u3PMJOP6ngxN",
        "dauF4eBmngu3",
        "bKJF3rekwFvQ",
        "MSa1f5Uengrz",
        "GF8Ens_Soomf",
        "0wOQAZs5pc--",
        "K5QZ13OEpz2H",
        "lQ7QKXXCp7Bj",
        "448CDAPjqfQr",
        "KSlN3yHqYklG",
        "t6dVpIINYklI",
        "ijmpgYnKYklI",
        "-JiQyfWJYklI",
        "EM7whBJCYoAo",
        "fge-S5ZAYoAp",
        "85gYPyotYoAp",
        "RoGjAbkUYoAp",
        "4Of9eVA-YrdM",
        "iky9q4vBYrdO",
        "F6T5p64dYrdO",
        "y-Ehk30pYrdP",
        "bamQiAODYuh1",
        "QHF8YVU7Yuh3",
        "GwzvFGzlYuh3",
        "qYpmQ266Yuh3",
        "OH-pJp9IphqM",
        "bbFf2-_FphqN",
        "_ouA3fa0phqN",
        "Seke61FWphqN",
        "PIIx-8_IphqN",
        "t27r6nlMphqO",
        "r2jJGEOYphqO",
        "b0JNsNcRphqO",
        "BZR9WyysphqO",
        "jj7wYXLtphqO",
        "eZrbJ2SmphqO",
        "rFu4xreNphqO",
        "YJ55k-q6phqO",
        "gCFgpxoyphqP",
        "OVtJsKN_phqQ",
        "lssrdh5qphqQ",
        "U2RJ9gkRphqQ",
        "1M8mcRywphqQ",
        "tgIPom80phqQ",
        "JMzcOPDDphqR",
        "x-EpHcCOp1ci",
        "X_VqEhTip1ck",
        "8zGJKyg5p1ck",
        "PVzmfK_Ep1ck",
        "n3dbpmDWp1ck",
        "ylSl6qgtp1ck",
        "ZWILFDl5p1ck",
        "M7G43BXep1ck",
        "Ag9LCva-p1cl",
        "E6MkPsBcp1cl",
        "2cELzS2fp1cl",
        "3MPXvC8up1cl",
        "NC_X3p0fY2L0",
        "UV0SzAkaZNRQ",
        "YPEH6qLeZNRQ",
        "q29F0dvdveiT",
        "EXh0U9oCveiU",
        "22aHeOlLveiV",
        "JcMwzZxoAimU",
        "8G2x9gOozGDZ",
        "gCX9965dhzqZ",
        "gIfDvo9L0UH2"
      ],
      "include_colab_link": true
    },
    "kernelspec": {
      "name": "python3",
      "display_name": "Python 3"
    },
    "language_info": {
      "name": "python"
    }
  },
  "cells": [
    {
      "cell_type": "markdown",
      "metadata": {
        "id": "view-in-github",
        "colab_type": "text"
      },
      "source": [
        "<a href=\"https://colab.research.google.com/github/RohitDeorukhkar/Telecom-Churn-Analysis/blob/main/Telecom_Churn_Analysis_Project.ipynb\" target=\"_parent\"><img src=\"https://colab.research.google.com/assets/colab-badge.svg\" alt=\"Open In Colab\"/></a>"
      ]
    },
    {
      "cell_type": "markdown",
      "source": [
        "# **Project Name**    -  Telecom Churn Analysis\n",
        "\n"
      ],
      "metadata": {
        "id": "vncDsAP0Gaoa"
      }
    },
    {
      "cell_type": "markdown",
      "source": [
        "##### **Project Type**    - EDA\n",
        "##### **Contribution**    - Individual\n"
      ],
      "metadata": {
        "id": "beRrZCGUAJYm"
      }
    },
    {
      "cell_type": "markdown",
      "source": [
        "# **Project Summary -**"
      ],
      "metadata": {
        "id": "FJNUwmbgGyua"
      }
    },
    {
      "cell_type": "markdown",
      "source": [
        "Write the summary here within 500-600 words.\n",
        "\n"
      ],
      "metadata": {
        "id": "F6v_1wHtG2nS"
      }
    },
    {
      "cell_type": "markdown",
      "source": [
        "# **GitHub Link -**"
      ],
      "metadata": {
        "id": "w6K7xa23Elo4"
      }
    },
    {
      "cell_type": "markdown",
      "source": [
        "Provide your GitHub Link here."
      ],
      "metadata": {
        "id": "h1o69JH3Eqqn"
      }
    },
    {
      "cell_type": "markdown",
      "source": [
        "# **Problem Statement**\n"
      ],
      "metadata": {
        "id": "yQaldy8SH6Dl"
      }
    },
    {
      "cell_type": "markdown",
      "source": [
        "**Write Problem Statement Here.**\n",
        "\n",
        "Customer churn prediction is extremely important for any business as it recognizes the clients who are likely to stop using their services.\n",
        "\n",
        "In the telecom industry, customers are able to choose from multiple service providers and actively switch from one operator to another. In this highly competitive market, the telecommunications industry experiences an average of 15-25% annual churn rate. Given the fact that it costs 5-10 times more to acquire a new customer than to retain an existing one, customer retention has now become even more important than customer acquisition.\n",
        "\n",
        "For many incumbent operators, retaining high profitable customers is the number one business goal. To reduce customer churn, telecom companies need to predict which customers are at high risk of churn. In this project, you will analyse customer-level data of a leading telecom firm, do exploratory data analysis to identify the main indicators why customers are leaving the company.\n",
        "\n"
      ],
      "metadata": {
        "id": "DpeJGUA3kjGy"
      }
    },
    {
      "cell_type": "markdown",
      "source": [
        "#### **Define Your Business Objective?**"
      ],
      "metadata": {
        "id": "PH-0ReGfmX4f"
      }
    },
    {
      "cell_type": "markdown",
      "source": [
        "***Reducing Customer Churn Rate***"
      ],
      "metadata": {
        "id": "PhDvGCAqmjP1"
      }
    },
    {
      "cell_type": "markdown",
      "source": [
        "# **General Guidelines** : -  "
      ],
      "metadata": {
        "id": "mDgbUHAGgjLW"
      }
    },
    {
      "cell_type": "markdown",
      "source": [
        "1.   Well-structured, formatted, and commented code is required.\n",
        "2.   Exception Handling, Production Grade Code & Deployment Ready Code will be a plus. Those students will be awarded some additional credits.\n",
        "     \n",
        "     The additional credits will have advantages over other students during Star Student selection.\n",
        "       \n",
        "             [ Note: - Deployment Ready Code is defined as, the whole .ipynb notebook should be executable in one go\n",
        "                       without a single error logged. ]\n",
        "\n",
        "3.   Each and every logic should have proper comments.\n",
        "4. You may add as many number of charts you want. Make Sure for each and every chart the following format should be answered.\n",
        "        \n",
        "\n",
        "```\n",
        "# Chart visualization code\n",
        "```\n",
        "            \n",
        "\n",
        "*   Why did you pick the specific chart?\n",
        "*   What is/are the insight(s) found from the chart?\n",
        "* Will the gained insights help creating a positive business impact?\n",
        "Are there any insights that lead to negative growth? Justify with specific reason.\n",
        "\n",
        "5. You have to create at least 20 logical & meaningful charts having important insights.\n",
        "\n",
        "\n",
        "[ Hints : - Do the Vizualization in  a structured way while following \"UBM\" Rule.\n",
        "\n",
        "U - Univariate Analysis,\n",
        "\n",
        "B - Bivariate Analysis (Numerical - Categorical, Numerical - Numerical, Categorical - Categorical)\n",
        "\n",
        "M - Multivariate Analysis\n",
        " ]\n",
        "\n",
        "\n",
        "\n"
      ],
      "metadata": {
        "id": "ZrxVaUj-hHfC"
      }
    },
    {
      "cell_type": "markdown",
      "source": [
        "# ***Let's Begin !***"
      ],
      "metadata": {
        "id": "O_i_v8NEhb9l"
      }
    },
    {
      "cell_type": "markdown",
      "source": [
        "## ***1. Know Your Data***"
      ],
      "metadata": {
        "id": "HhfV-JJviCcP"
      }
    },
    {
      "cell_type": "markdown",
      "source": [
        "### Import Libraries"
      ],
      "metadata": {
        "id": "Y3lxredqlCYt"
      }
    },
    {
      "cell_type": "code",
      "source": [
        "# Import Libraries\n",
        "import numpy as np\n",
        "import pandas as pd\n",
        "import matplotlib.pyplot as plt\n",
        "import seaborn as sns\n",
        "!pip install bs4\n",
        "from bs4 import BeautifulSoup\n",
        "from google.colab import drive\n",
        "drive.mount('/content/drive')\n",
        "\n"
      ],
      "metadata": {
        "id": "M8Vqi-pPk-HR"
      },
      "execution_count": null,
      "outputs": []
    },
    {
      "cell_type": "markdown",
      "source": [
        "### Dataset Loading"
      ],
      "metadata": {
        "id": "3RnN4peoiCZX"
      }
    },
    {
      "cell_type": "code",
      "source": [
        "# Load Dataset\n",
        "filepath='/content/drive/MyDrive/Data set/Telecom Churn.csv'\n",
        "dataset=pd.read_csv(filepath)\n"
      ],
      "metadata": {
        "id": "4CkvbW_SlZ_R"
      },
      "execution_count": null,
      "outputs": []
    },
    {
      "cell_type": "markdown",
      "source": [
        "### Dataset First View"
      ],
      "metadata": {
        "id": "x71ZqKXriCWQ"
      }
    },
    {
      "cell_type": "code",
      "source": [
        "# Dataset First Look\n",
        "dataset.head()"
      ],
      "metadata": {
        "id": "LWNFOSvLl09H"
      },
      "execution_count": null,
      "outputs": []
    },
    {
      "cell_type": "markdown",
      "source": [
        "### Dataset Rows & Columns count"
      ],
      "metadata": {
        "id": "7hBIi_osiCS2"
      }
    },
    {
      "cell_type": "code",
      "source": [
        "# Dataset Rows & Columns count\n",
        "dataset.shape"
      ],
      "metadata": {
        "id": "Kllu7SJgmLij"
      },
      "execution_count": null,
      "outputs": []
    },
    {
      "cell_type": "markdown",
      "source": [
        "### Dataset Information"
      ],
      "metadata": {
        "id": "JlHwYmJAmNHm"
      }
    },
    {
      "cell_type": "code",
      "source": [
        "# Dataset Info\n",
        "dataset.info()"
      ],
      "metadata": {
        "id": "e9hRXRi6meOf"
      },
      "execution_count": null,
      "outputs": []
    },
    {
      "cell_type": "markdown",
      "source": [
        "#### Duplicate Values"
      ],
      "metadata": {
        "id": "35m5QtbWiB9F"
      }
    },
    {
      "cell_type": "code",
      "source": [
        "# Dataset Duplicate Value Count\n",
        "len(dataset[dataset.duplicated()])"
      ],
      "metadata": {
        "id": "1sLdpKYkmox0"
      },
      "execution_count": null,
      "outputs": []
    },
    {
      "cell_type": "markdown",
      "source": [
        "#### Missing Values/Null Values"
      ],
      "metadata": {
        "id": "PoPl-ycgm1ru"
      }
    },
    {
      "cell_type": "code",
      "source": [
        "# Missing Values/Null Values\n",
        "dataset.isnull().sum()"
      ],
      "metadata": {
        "id": "GgHWkxvamxVg"
      },
      "execution_count": null,
      "outputs": []
    },
    {
      "cell_type": "code",
      "source": [
        "# Visualizing the missing values\n",
        "# Checking Null Value by plotting Heatmap\n",
        "sns.heatmap(dataset.isnull(), cbar=False)"
      ],
      "metadata": {
        "id": "3q5wnI3om9sJ"
      },
      "execution_count": null,
      "outputs": []
    },
    {
      "cell_type": "markdown",
      "source": [
        "### What did you know about your dataset?"
      ],
      "metadata": {
        "id": "H0kj-8xxnORC"
      }
    },
    {
      "cell_type": "markdown",
      "source": [
        "The dataset given is a dataset from Telecommunication industry, and we have to analysis the churn of customers and the insights behind it.\n",
        "\n",
        "The dataset given is a dataset from Telecommunication industry, and we have to analysis the churn of customers and the insights behind it.\n",
        "\n",
        "Churn prediction is analytical studies on the possibility of a customer abandoning a product or service. The goal is to understand and take steps to change it before the costumer gives up the product or service.\n",
        "\n",
        "The above dataset has 3333 rows and 20 columns. There are no mising values and duplicate values in the dataset\n",
        "\n"
      ],
      "metadata": {
        "id": "gfoNAAC-nUe_"
      }
    },
    {
      "cell_type": "markdown",
      "source": [
        "## ***2. Understanding Your Variables***"
      ],
      "metadata": {
        "id": "nA9Y7ga8ng1Z"
      }
    },
    {
      "cell_type": "code",
      "source": [
        "# Dataset Columns\n",
        "dataset.columns"
      ],
      "metadata": {
        "id": "j7xfkqrt5Ag5"
      },
      "execution_count": null,
      "outputs": []
    },
    {
      "cell_type": "code",
      "source": [
        "# Dataset Describe\n",
        "dataset.describe(include='all')"
      ],
      "metadata": {
        "id": "DnOaZdaE5Q5t"
      },
      "execution_count": null,
      "outputs": []
    },
    {
      "cell_type": "markdown",
      "source": [
        "### Variables Description"
      ],
      "metadata": {
        "id": "PBTbrJXOngz2"
      }
    },
    {
      "cell_type": "markdown",
      "source": [
        "**State** :categorica for the 50 states\n",
        "\n",
        "**Account Length** :how long account has been active\n",
        "\n",
        "**Area Code** :Code Number of Area having some States included in each area code\n",
        "\n",
        "**lntl Plan** :Internat ional plan activated ( yes, no )\n",
        "\n",
        "**VMail Plan** : ice Mail plan activated ( yes ,no )\n",
        "\n",
        "**VMail Message** :No.of voice mail messages\n",
        "\n",
        "**Day Mins** :Total day minutes used\n",
        "\n",
        "**Day calls** :Total day calls made\n",
        "\n",
        "**Day Charge** :Total day charge\n",
        "\n",
        "**Eve Mins** :Total evening minutes\n",
        "\n",
        "**Eve Calls** :Total evening calls\n",
        "\n",
        "**Eve Charge** :Total evening charge\n",
        "\n",
        "**Night Mins** :Total night minutes\n",
        "\n",
        "**Night Calls** :Total night calls\n",
        "\n",
        "**Night Charge** :Total night charge\n",
        "\n",
        "**Intl Mins** :Total International minutes used\n",
        "\n",
        "**Intl Calls** :Total International calls made\n",
        "\n",
        "**Intl Charge** :Total International charge\n",
        "\n",
        "**CustServ calls** :Number of customer service caUs made\n",
        "\n",
        "**Churn** :Customer churn (Target Variable True=1, False=0)\n",
        "\n",
        "\n"
      ],
      "metadata": {
        "id": "aJV4KIxSnxay"
      }
    },
    {
      "cell_type": "markdown",
      "source": [
        "### Check Unique Values for each variable."
      ],
      "metadata": {
        "id": "u3PMJOP6ngxN"
      }
    },
    {
      "cell_type": "code",
      "source": [
        "# Check Unique Values for each variable.\n",
        "for i in dataset.columns.tolist():\n",
        "  print(\"No. of unique values in \",i,\"is\",dataset[i].nunique(),\".\")"
      ],
      "metadata": {
        "id": "zms12Yq5n-jE"
      },
      "execution_count": null,
      "outputs": []
    },
    {
      "cell_type": "markdown",
      "source": [
        "## 3. ***Data Wrangling***"
      ],
      "metadata": {
        "id": "dauF4eBmngu3"
      }
    },
    {
      "cell_type": "markdown",
      "source": [
        "### Data Wrangling Code"
      ],
      "metadata": {
        "id": "bKJF3rekwFvQ"
      }
    },
    {
      "cell_type": "code",
      "source": [
        "# Write your code to make your dataset analysis ready.\n",
        "# Create a copy of the current dataset and assigning to df\n",
        "df=dataset.copy()\n",
        "#No. of churn customers\n",
        "print(\"No. of churned customers:- \", len(df[df['Churn']==True]))\n",
        "# Assigning churn customers data to variable df_churn\n",
        "df_churn=df[df['Churn']==True]\n",
        "df_churn"
      ],
      "metadata": {
        "id": "wk-9a2fpoLcV"
      },
      "execution_count": null,
      "outputs": []
    },
    {
      "cell_type": "code",
      "source": [
        "# Churn data groupby Area Code Wise\n",
        "churn_area_wise_df=df.groupby('Area code')['Churn'].value_counts().reset_index(name=\"Count\")\n",
        "churn_area_wise_df\n"
      ],
      "metadata": {
        "id": "JNF54wXcnu9T"
      },
      "execution_count": null,
      "outputs": []
    },
    {
      "cell_type": "code",
      "source": [
        "# Function to get all area code mean & median while passing area code and dataframe.\n",
        "def get_mean_median(df,areacode):\n",
        "   try:\n",
        "       return pd.concat([df[(df['Churn']==True)&(df['Area code']==408)].describe().iloc[1],\n",
        "              df[(df['Churn']==True)&(df['Area code']==408)].describe().iloc[5]],\n",
        "              axis=1).rename(columns={'50%':'median'}).fillna(\"-\")\n",
        "   except:\n",
        "       print(\"Invalid Area Code\")\n"
      ],
      "metadata": {
        "id": "v6dZMcv-Rf7C"
      },
      "execution_count": null,
      "outputs": []
    },
    {
      "cell_type": "code",
      "source": [
        "# Getting Mean Median for area code 408\n",
        "df_mean_median_408=get_mean_median(df=df,areacode=408)\n",
        "print(df_mean_median_408)\n"
      ],
      "metadata": {
        "id": "fbHBEAjXfzmD"
      },
      "execution_count": null,
      "outputs": []
    },
    {
      "cell_type": "code",
      "source": [
        "# Getting Mean Median for area code 415\n",
        "df_mean_median_415=get_mean_median(df=df,areacode=415)\n",
        "print(df_mean_median_415)\n"
      ],
      "metadata": {
        "id": "oNyaVfmSf1LU"
      },
      "execution_count": null,
      "outputs": []
    },
    {
      "cell_type": "code",
      "source": [
        "# Getting Mean Median for area code 510\n",
        "df_mean_median_510=get_mean_median(df=df,areacode=510)\n",
        "print(df_mean_median_510)"
      ],
      "metadata": {
        "id": "4En5tch8f04X"
      },
      "execution_count": null,
      "outputs": []
    },
    {
      "cell_type": "code",
      "source": [
        "# Getting Unique States\n",
        "print(df['State'].unique())\n",
        "print(\" \")\n",
        "# Getting Unique States Count\n",
        "print(\"The count of uniqe states is\", df['State'].nunique())"
      ],
      "metadata": {
        "id": "2KIz6SaVhWOB"
      },
      "execution_count": null,
      "outputs": []
    },
    {
      "cell_type": "code",
      "source": [
        "# Churn Counts grouby State wise\n",
        "df_statewise_churn=df.groupby('State')['Churn'].value_counts().reset_index(name='Count')\n",
        "df_statewise_churn"
      ],
      "metadata": {
        "id": "DNY_zHVHjxMU"
      },
      "execution_count": null,
      "outputs": []
    },
    {
      "cell_type": "code",
      "source": [
        "# Assigning churn customers data with no international plan\n",
        "df_churn_intl_no=df_churn[df['International plan']== 'No']\n",
        "# Assigning churn customers data with international plan\n",
        "df_churn_intl_yes=df_churn[df['International plan']== 'Yes']\n",
        "df_churn_intl_yes\n"
      ],
      "metadata": {
        "id": "X8stG2g9pMd4"
      },
      "execution_count": null,
      "outputs": []
    },
    {
      "cell_type": "code",
      "source": [
        "# Churn customers data with no international plan value counts\n",
        "df_churn_intl_no_count=df_churn_intl_no['Area code'].value_counts().reset_index()\n",
        "df_churn_intl_no_count = df_churn_intl_no_count.rename(columns={'index': 'Area code', 'Area code': 'user count of no international plan'})\n",
        "df_churn_intl_no_count"
      ],
      "metadata": {
        "id": "-5MZHUK7q5m9"
      },
      "execution_count": null,
      "outputs": []
    },
    {
      "cell_type": "code",
      "source": [
        "# Churn customers data with international plan value counts\n",
        "df_churn_intl_yes_count=df_churn_intl_yes['Area code'].value_counts().reset_index()\n",
        "df_churn_intl_yes_count = df_churn_intl_yes_count.rename(columns={'index': 'Area code', 'Area code': 'user count of international plan'})\n",
        "df_churn_intl_yes_count"
      ],
      "metadata": {
        "id": "_7F8yzkT1kGn"
      },
      "execution_count": null,
      "outputs": []
    },
    {
      "cell_type": "code",
      "source": [
        "# Creating call duration column for customers with no international plan\n",
        "df_churn_intl_no['Days_1call_duration']=df_churn_intl_no['Total day minutes']/df_churn_intl_no['Total day calls']\n",
        "df_churn_intl_no['intern_1call_duration']=df_churn_intl_no['Total intl minutes']/df_churn_intl_no['Total intl calls']\n",
        "\n",
        "df_churn_intl_no['evening_1call_duration']=df_churn_intl_no['Total eve minutes']/df_churn_intl_no['Total eve calls']\n",
        "df_churn_intl_no['night_1call_duration']=df_churn_intl_no['Total night minutes']/df_churn_intl_no['Total night calls']\n"
      ],
      "metadata": {
        "id": "5zqpNjwPvLJu"
      },
      "execution_count": null,
      "outputs": []
    },
    {
      "cell_type": "code",
      "source": [
        "# Creating price rate per minute column for customers with international plan\n",
        "df_churn_intl_yes['international_rate_per_min']=df_churn_intl_yes['Total intl charge']/df_churn_intl_yes['Total intl minutes']\n",
        "df_churn_intl_yes['day_rate_per_min']=df_churn_intl_yes['Total day charge']/df_churn_intl_yes['Total day minutes']\n",
        "df_churn_intl_yes['eve_rate_per_min']=df_churn_intl_yes['Total eve charge']/df_churn_intl_yes['Total eve minutes']\n",
        "df_churn_intl_yes['night_rate_per_min']=df_churn_intl_yes['Total night charge']/df_churn_intl_yes['Total night minutes']"
      ],
      "metadata": {
        "id": "OuhalpY3vj2U"
      },
      "execution_count": null,
      "outputs": []
    },
    {
      "cell_type": "code",
      "source": [
        "# Getting Mean Median for area code 408 with no international plan\n",
        "get_mean_median(df=df_churn_intl_no,areacode=408)"
      ],
      "metadata": {
        "id": "_aCBGqSVw2Pi"
      },
      "execution_count": null,
      "outputs": []
    },
    {
      "cell_type": "code",
      "source": [
        "# Getting Mean Median for area code 415 with no international plan\n",
        "get_mean_median(df=df_churn_intl_no,areacode=415)"
      ],
      "metadata": {
        "id": "QfeKB2XbxOS_"
      },
      "execution_count": null,
      "outputs": []
    },
    {
      "cell_type": "code",
      "source": [
        "# Getting Mean Median for area code 510 with no international plan\n",
        "get_mean_median(df=df_churn_intl_no,areacode=510)"
      ],
      "metadata": {
        "id": "kV8ayxt0xOPt"
      },
      "execution_count": null,
      "outputs": []
    },
    {
      "cell_type": "code",
      "source": [
        "# Getting Mean Median for area code 408 with international plan\n",
        "get_mean_median(df=df_churn_intl_yes,areacode=408)"
      ],
      "metadata": {
        "id": "6ETJ-028xOFh"
      },
      "execution_count": null,
      "outputs": []
    },
    {
      "cell_type": "code",
      "source": [
        "# Getting Mean Median for area code 415 with international plan\n",
        "get_mean_median(df=df_churn_intl_yes,areacode=415)"
      ],
      "metadata": {
        "id": "kKdGlY0MxN5e"
      },
      "execution_count": null,
      "outputs": []
    },
    {
      "cell_type": "code",
      "source": [
        "# Getting Mean Median for area code 510 with international plan\n",
        "get_mean_median(df=df_churn_intl_yes,areacode=510)"
      ],
      "metadata": {
        "id": "IU8f-MJIxNzt"
      },
      "execution_count": null,
      "outputs": []
    },
    {
      "cell_type": "code",
      "source": [
        "# Checking Number of voice mail sent for customers with no international plan\n",
        "df_churn_intl_no['Number vmail messages'].value_counts().reset_index(name=\"User Count\")\n"
      ],
      "metadata": {
        "id": "QSENfLnlxNtA"
      },
      "execution_count": null,
      "outputs": []
    },
    {
      "cell_type": "code",
      "source": [
        "# Assigning Customers data with no international plan and voice mail plan\n",
        "voice_mail_plan_yes =df_churn_intl_no[df_churn_intl_no['Voice mail plan']=='Yes']\n",
        "voice_mail_plan_yes.describe()"
      ],
      "metadata": {
        "id": "UFF68OYuxdXW"
      },
      "execution_count": null,
      "outputs": []
    },
    {
      "cell_type": "code",
      "source": [
        "# Assigning customers data with international plan and no voice mail plan\n",
        "voice_mail_plan_yes=df_churn_intl_yes[df_churn_intl_yes['Voice mail plan']=='Yes']\n",
        "voice_mail_plan_yes.describe()"
      ],
      "metadata": {
        "id": "U5CIBjDbxdUL"
      },
      "execution_count": null,
      "outputs": []
    },
    {
      "cell_type": "code",
      "source": [
        "# Assigning customers data with international plan and no voice plan\n",
        "df_true_intl=df_churn[(df_churn['International plan']=='Yes')&(df_churn['Voice mail plan']=='No')]\n",
        "df_true_intl.describe()"
      ],
      "metadata": {
        "id": "iCjPcQwAxdR4"
      },
      "execution_count": null,
      "outputs": []
    },
    {
      "cell_type": "code",
      "source": [
        "# Assigning Customers data with no international plan and having voice mail plan\n",
        "df_true_voice=df_churn[(df_churn['International plan']=='No')&(df_churn['Voice mail plan']=='Yes')]\n",
        "df_true_voice.describe()"
      ],
      "metadata": {
        "id": "7YTx4XAFxdPQ"
      },
      "execution_count": null,
      "outputs": []
    },
    {
      "cell_type": "code",
      "source": [
        "# Assigning Customers data with no international plan and no voice mail plan\n",
        "df_true_no=df_churn[(df_churn['International plan']=='No')&(df_churn['Voice mail plan']=='No')]\n",
        "df_true_no.describe()"
      ],
      "metadata": {
        "id": "ClRbwz7o_tfo"
      },
      "execution_count": null,
      "outputs": []
    },
    {
      "cell_type": "code",
      "source": [
        "# Assigning Customers data with both international plan and voice mail plan\n",
        "df_true_yes=df_churn[(df_churn['International plan']=='Yes')&(df_churn['Voice mail plan']=='Yes')]\n",
        "df_true_yes.describe()"
      ],
      "metadata": {
        "id": "ZeQTs9Fq_tcb"
      },
      "execution_count": null,
      "outputs": []
    },
    {
      "cell_type": "code",
      "source": [
        "print(\"Churned Customer Shape:-\",df_churn.shape)\n",
        "print(\" \")\n",
        "print(\"customers data with international plan and no voice plan:-\",df_true_intl.shape)\n",
        "print(\" \")\n",
        "print(\"Customers data with no international plan and having voice mail plan:-\",df_true_voice.shape)\n",
        "print(\" \")\n",
        "print(\"Customers data with no international plan and no voice mail plan:-\",df_true_no.shape)\n",
        "print(\" \")\n",
        "print(\"Customers data with both international plan and voice mail plan:-\",df_true_yes.shape)\n",
        "print(\" \")"
      ],
      "metadata": {
        "id": "qSKF98ta_tXC"
      },
      "execution_count": null,
      "outputs": []
    },
    {
      "cell_type": "code",
      "source": [
        "print(\"Customers data with no international plan and having voice mail plan maximum voice message sent:-\",df_true_voice['Number vmail messages'].max())\n",
        "print(\" \")\n",
        "\n",
        "# Assigning customers data to respective area codes\n",
        "df_true_voice_415=df_true_voice[df_true_voice['Area code']==415]\n",
        "df_true_voice_510=df_true_voice[df_true_voice['Area code']==510]\n",
        "df_true_voice_408=df_true_voice[df_true_voice['Area code']==408]\n",
        "\n",
        "print(\"Customers data with no international plan and having voice mail plan voice message sent in area 415 mean, median:-\",df_true_voice_415['Number vmail messages'].mean(),\",\",df_true_voice_415['Number vmail messages'].median())\n",
        "print(\" \")\n",
        "\n",
        "print(\"Customers data with no international plan and having voice mail plan customer service calls in area 415 mean, median:-\",df_true_voice_415['Customer service calls'].mean(),\",\",df_true_voice_415['Customer service calls'].median())\n",
        "print(\" \")\n",
        "\n",
        "print(\"Customers data with no international plan and having voice mail plan voice message sent in area 510 max, mean, median & customer service calls in area 510 mean, median:-\"\n",
        ",df_true_voice_510['Number vmail messages'].max(),\",\",df_true_voice_510['Number vmail messages'].mean(),\",\",df_true_voice_510['Number vmail messages'].median(),\",\",df_true_voice_510['Customer service calls'].mean(),\",\",df_true_voice_510['Customer service calls'].median())\n",
        "print(\" \")\n",
        "\n",
        "print(\"Customers data with no international plan and having voice mail plan voice message sent in area 408 max, mean, median & customer service calls in area 408 mean, median:-\"\n",
        ",df_true_voice_408['Number vmail messages'].max(),\",\",df_true_voice_408['Number vmail messages'].mean(),\",\",df_true_voice_408['Number vmail messages'].median(),\",\",df_true_voice_408['Customer service calls'].mean(),\",\",df_true_voice_408['Customer service calls'].median())\n",
        "print(\" \")\n",
        "# Assigning customers data to respective area codes\n",
        "df_true_yes_415=df_true_yes[df_true_yes['Area code']==415]\n",
        "df_true_yes_510=df_true_yes[df_true_yes['Area code']==510]\n",
        "df_true_yes_408=df_true_yes[df_true_yes['Area code']==408]\n",
        "\n",
        "print(\"Customers data with both international plan and voice mail plan customer service calls mean & voice mail sent max :-\"\n",
        ",df_true_yes['Customer service calls'].mean(),df_true_yes['Number vmail messages'].max())\n",
        "print(\" \")\n",
        "print(\"Customers data with both international plan and voice mail plan in area 415 voice mail sent max, mean, median :-\"\n",
        ",df_true_yes_415['Number vmail messages'].max(),\",\",df_true_yes_415['Number vmail messages'].mean(),\",\",df_true_yes_415['Number vmail messages'].median())\n",
        "print(\" \")\n",
        "print(\"Customers data with both international plan and voice mail plan in area 510 voice mail sent max, mean, median :-\"\n",
        ",df_true_yes_510['Number vmail messages'].max(),\",\",df_true_yes_510['Number vmail messages'].mean(),\",\",df_true_yes_510['Number vmail messages'].median())\n",
        "print(\" \")\n",
        "print(\"Customers data with both international plan and voice mail plan in area 408 voice mail sent max, mean, median :-\"\n",
        ",df_true_yes_408['Number vmail messages'].max(),\",\",df_true_yes_408['Number vmail messages'].mean(),\",\",df_true_yes_408['Number vmail messages'].median())"
      ],
      "metadata": {
        "id": "x0ehYgen_tOs"
      },
      "execution_count": null,
      "outputs": []
    },
    {
      "cell_type": "code",
      "source": [
        "# Assigning customers data with no international plan and having voice mail plan state list in area 415\n",
        "df_true_voice_415_states=list(df_true_voice_415['State'].unique())\n",
        "print(\"States list where customers data with no international plan and having voice mail plan in area 415 :-\",df_true_voice_415_states)\n",
        "print(\" \")\n",
        "# Assigning customers data  with both international plan and voice mail plan state list in area 415\n",
        "df_true_yes_415_states=list(df_true_yes_415['State'].unique())\n",
        "print(\"States List where customers data  with both international plan and voice mail plan in area 415 :-\",df_true_yes_415_states)\n",
        "print(\" \")\n",
        "# Getting Poor Network connectivity states based on our hypothetical logic\n",
        "poor_netwok_states_415=set(df_true_voice_415_states).intersection(set(df_true_yes_415_states))\n",
        "print(\"Poor Network connectivity states in area 415 :-\",list(poor_netwok_states_415))"
      ],
      "metadata": {
        "id": "9a2-5VpWDsWL"
      },
      "execution_count": null,
      "outputs": []
    },
    {
      "cell_type": "code",
      "source": [
        "# Assigning Customers data with no international plan and having voice mail plan state list in area 408\n",
        "df_true_voice_408_states=list(df_true_voice_408['State'].unique())\n",
        "print(\"States list Customers data with no international plan and having voice mail plan state list in area 408 :-\",df_true_voice_408_states)\n",
        "print(\" \")\n",
        "# Assigning customers data  with both international plan and voice mail plan state list in area 408\n",
        "df_true_yes_408_states=list(df_true_yes_408['State'].unique())\n",
        "print(\"States list customers data  with both international plan and voice mail plan state list in area 408 :-\",df_true_yes_408_states)\n",
        "print(\" \")\n",
        "# Getting Poor Network connectivity states based on our hypothetical logic\n",
        "poor_netwok_states_408=set(df_true_voice_408_states).intersection(set(df_true_yes_408_states))\n",
        "# Getting Common Poor Network connectivity states based on our hypothetical logic from both area 408 & 415\n",
        "poor_network_states=poor_netwok_states_415.union(poor_netwok_states_408)\n",
        "print(\"Poor Network connectivity states in both area 415, 408 :-\",list(poor_network_states))"
      ],
      "metadata": {
        "id": "FnKA6eM1EX-n"
      },
      "execution_count": null,
      "outputs": []
    },
    {
      "cell_type": "code",
      "source": [
        "# Assigning Customers data with no international plan and having voice mail plan state list in area 510\n",
        "df_true_voice_510_states=list(df_true_voice_510['State'].unique())\n",
        "print(\"States list Customers data with no international plan and having voice mail plan state list in area 510 :-\",df_true_voice_510_states)\n",
        "print(\" \")\n",
        "# Assigning customers data  with both international plan and voice mail plan state list in area 510\n",
        "df_true_yes_510_states=list(df_true_yes_510['State'].unique())\n",
        "print(\"States list customers data  with both international plan and voice mail plan state list in area 510 :-\",df_true_yes_510_states)\n",
        "print(\" \")\n",
        "# Getting Common  Network Maintainance states based on our hypothetical logic from area 510\n",
        "maintainence_states=set(df_true_voice_510_states).intersection(set(df_true_yes_510_states))\n",
        "print(\"Network needs to be maintenanced in states :-\",list(maintainence_states))"
      ],
      "metadata": {
        "id": "sndQaJEGEX7h"
      },
      "execution_count": null,
      "outputs": []
    },
    {
      "cell_type": "code",
      "source": [
        "print(f\"Poor Netwok States are {list(poor_network_states)} and Network needs to be maintenanced in states {list(maintainence_states)}.\")"
      ],
      "metadata": {
        "id": "lEcvhs4LEpio"
      },
      "execution_count": null,
      "outputs": []
    },
    {
      "cell_type": "markdown",
      "source": [
        "### What all manipulations have you done and insights you found?"
      ],
      "metadata": {
        "id": "MSa1f5Uengrz"
      }
    },
    {
      "cell_type": "markdown",
      "source": [
        "Answer Here."
      ],
      "metadata": {
        "id": "LbyXE7I1olp8"
      }
    },
    {
      "cell_type": "markdown",
      "source": [
        "## ***4. Data Vizualization, Storytelling & Experimenting with charts : Understand the relationships between variables***"
      ],
      "metadata": {
        "id": "GF8Ens_Soomf"
      }
    },
    {
      "cell_type": "markdown",
      "source": [
        "#### Chart - 1"
      ],
      "metadata": {
        "id": "0wOQAZs5pc--"
      }
    },
    {
      "cell_type": "code",
      "source": [
        "# Chart - 1 visualization code\n",
        "# Chart - 1 visualization code\n",
        "# Dependant Column Value Counts\n",
        "print(dataset.Churn.value_counts())\n",
        "print(\" \")\n",
        "# Dependant Variable Column Visualization\n",
        "dataset['Churn'].value_counts().plot(kind='pie',\n",
        "                              figsize=(15,6),\n",
        "                               autopct=\"%1.1f%%\",\n",
        "                               startangle=90,\n",
        "                               shadow=True,\n",
        "                               labels=['Not Churn(%)','Churn(%)'],\n",
        "                               colors=['skyblue','red'],\n",
        "                               explode=[0,0]\n",
        "                              )"
      ],
      "metadata": {
        "id": "7v_ESjsspbW7"
      },
      "execution_count": null,
      "outputs": []
    },
    {
      "cell_type": "markdown",
      "source": [
        "##### 1. Why did you pick the specific chart?"
      ],
      "metadata": {
        "id": "K5QZ13OEpz2H"
      }
    },
    {
      "cell_type": "markdown",
      "source": [
        "A pie chart expresses a part-to-whole relationship in your data. It's easy to explain the percentage comparison through area covered in a circle with different colors. Where differenet percentage comparison comes into action pie chart is used frequently. So, I used Pie chart and which helped me to get the percentage comparision of the dependant variable."
      ],
      "metadata": {
        "id": "XESiWehPqBRc"
      }
    },
    {
      "cell_type": "markdown",
      "source": [
        "##### 2. What is/are the insight(s) found from the chart?"
      ],
      "metadata": {
        "id": "lQ7QKXXCp7Bj"
      }
    },
    {
      "cell_type": "markdown",
      "source": [
        "From the above chart I got to know that, there are 2850 customers which are not churned which is 85.5% of the whole customers data given in the dataset. In other hand, 483 customers are churned which is 14.%% of the whold customers data given in the dataset.\n"
      ],
      "metadata": {
        "id": "C_j1G7yiqdRP"
      }
    },
    {
      "cell_type": "markdown",
      "source": [
        "##### 3. Will the gained insights help creating a positive business impact?\n",
        "Are there any insights that lead to negative growth? Justify with specific reason."
      ],
      "metadata": {
        "id": "448CDAPjqfQr"
      }
    },
    {
      "cell_type": "markdown",
      "source": [
        "Customer churn is often referred to as customer attrition, or customer defection which is the rate at which the customers are lost. Telecom companies often use customer churn as a key business metrics to predict the number of customers that will leave a telecom service provider. Churn is significant in the telecommunication industry because it directly affects the competitiveness of the service provider.\n",
        "\n",
        "It's easy to loss customers but too difficult to aquire one. One churned cutomer will make 3-4 customers away those might be acquired by your teleservice provider with \"POWER OF WORDS\".\n",
        "\n",
        "When Jio provided free internnet services to everyone, and started acquiring maximum number of customers, so cutomer churn rate for other teleservice providers increased and customers from other teleservice providers those who converted to JIO spread the benefit of JIO to their relatives and friends and they also converted too easily. So, \"POWER OF WORDS\" also comes into action that wrong and bad reviews spread first."
      ],
      "metadata": {
        "id": "3cspy4FjqxJW"
      }
    },
    {
      "cell_type": "markdown",
      "source": [
        "#### Chart - 2"
      ],
      "metadata": {
        "id": "KSlN3yHqYklG"
      }
    },
    {
      "cell_type": "code",
      "source": [
        "# Chart - 2 visualization code\n",
        "# Chart - 2 visualization code\n",
        "# Showing Average True Churn Percentage state wise\n",
        "# Showing top 10 churned state\n",
        "print((dataset.groupby(['State'])['Churn'].mean()*100).sort_values(ascending = False).reset_index(name=\"Average True CHurn %\").head(10))\n",
        "print(\" \")\n",
        "\n",
        "# State vs. average true churn percantage visualization code\n",
        "# Vizualizing top 10 churned state\n",
        "plt.rcParams['figure.figsize'] = (12, 7)\n",
        "color = plt.cm.copper(np.linspace(0, 0.5, 20))\n",
        "((dataset.groupby(['State'])['Churn'].mean())*100).sort_values(ascending = False).head(10).plot.bar(color = ['violet','indigo','b','g','y','orange','r'])\n",
        "plt.title(\" State with most churn percentage\", fontsize = 20)\n",
        "plt.xlabel('state', fontsize = 15)\n",
        "plt.ylabel('percentage', fontsize = 15)\n",
        "plt.show()\n",
        "\n"
      ],
      "metadata": {
        "id": "R4YgtaqtYklH"
      },
      "execution_count": null,
      "outputs": []
    },
    {
      "cell_type": "code",
      "source": [
        "# Showing Average True Churn Percentage state wise\n",
        "# Showing top 10 churned state\n",
        "print((dataset.groupby(['State'])['Churn'].mean()*100).sort_values(ascending = True).reset_index(name=\"Average True CHurn %\").head(10))\n",
        "print(\" \")\n",
        "\n",
        "# State vs. average true churn percantage visualization code\n",
        "# Vizualizing bottom 10 churned state\n",
        "plt.rcParams['figure.figsize'] = (12, 7)\n",
        "color = plt.cm.copper(np.linspace(0, 0.5, 20))\n",
        "((dataset.groupby(['State'])['Churn'].mean())*100).sort_values(ascending = True).head(10).plot.bar(color = ['violet','indigo','b','g','y','orange','r'])\n",
        "plt.title(\" State with most churn percentage\", fontsize = 20)\n",
        "plt.xlabel('state', fontsize = 15)\n",
        "plt.ylabel('percentage', fontsize = 15)\n",
        "plt.show()"
      ],
      "metadata": {
        "id": "C16VA0JNHh4S"
      },
      "execution_count": null,
      "outputs": []
    },
    {
      "cell_type": "markdown",
      "source": [
        "##### 1. Why did you pick the specific chart?"
      ],
      "metadata": {
        "id": "t6dVpIINYklI"
      }
    },
    {
      "cell_type": "markdown",
      "source": [
        "Bar charts show the frequency counts of values for the different levels of a categorical or nominal variable. Sometimes, bar charts show other statistics, such as percentages.\n",
        "\n",
        "To show the average percentage of true churn with respect to states, I have used Bar Chart."
      ],
      "metadata": {
        "id": "zpc23bCqMSSp"
      }
    },
    {
      "cell_type": "markdown",
      "source": [
        "# Showing Average True Churn Percentage state wise\n",
        "# Showing top 10 churned state\n",
        "print((dataset.groupby(['State'])['Churn'].mean()*100).sort_values(ascending = True).reset_index(name=\"Average True CHurn %\").head(10))\n",
        "print(\" \")"
      ],
      "metadata": {
        "id": "5aaW0BYyYklI"
      }
    },
    {
      "cell_type": "code",
      "source": [
        "print((dataset.groupby(['State'])['Churn'].mean()*100).sort_values(ascending = True).reset_index(name=\"Average True CHurn %\").head(10))\n",
        "print(\" \")"
      ],
      "metadata": {
        "id": "9ZapvxEIOJho"
      },
      "execution_count": null,
      "outputs": []
    },
    {
      "cell_type": "markdown",
      "source": [
        "##### 2. What is/are the insight(s) found from the chart?"
      ],
      "metadata": {
        "id": "ijmpgYnKYklI"
      }
    },
    {
      "cell_type": "markdown",
      "source": [
        "There are 51 states having different churn rates .\n",
        "\n",
        "CA, NJ ,TX , MD ,SC ,MI, MS, NV, WA, ME are the ones who have higher churn rate more then 21.74% which is more than 50% of average churn rate.\n",
        "\n",
        "Under the Data wrangling, I have defined a hypothetical logic for some states with poor network region and some states where service needs to be maintained or new installations required. So, here states [ ' NV ', ' NJ ' ] are common which are in top 10 churned states.\n",
        "\n"
      ],
      "metadata": {
        "id": "PSx9atu2YklI"
      }
    },
    {
      "cell_type": "markdown",
      "source": [
        "##### 3. Will the gained insights help creating a positive business impact?\n",
        "Are there any insights that lead to negative growth? Justify with specific reason."
      ],
      "metadata": {
        "id": "-JiQyfWJYklI"
      }
    },
    {
      "cell_type": "markdown",
      "source": [
        "Yes, the data of state wise churning depicts that 10% of a large state is same as 20% of a smaller state. So, we can't neglect the churn rates and will have to sagreggate based on the area covereage in respective states. Still, priotizing to actionable tasks we should try to figure out the issues in top 10 churning states first.\n",
        "\n",
        "The issue might be poor network coverage or negligible maintaince on existing antenna, or total area coverage & no. of mobile tower or users is low or new towers needs to be installed to coverage additional areas."
      ],
      "metadata": {
        "id": "BcBbebzrYklV"
      }
    },
    {
      "cell_type": "markdown",
      "source": [
        "#### Chart - 3"
      ],
      "metadata": {
        "id": "EM7whBJCYoAo"
      }
    },
    {
      "cell_type": "code",
      "source": [
        "# Chart - 3 visualization code\n",
        "# One Digit Account Length\n",
        "print(dataset[dataset['Account length']<=9].loc[:,['Churn']].value_counts())\n",
        "print(\" \")\n",
        "\n",
        "# Visualizing One Digit Account Length Based on Churn percentage\n",
        "dataset[dataset['Account length']<=9].loc[:,['Churn']].value_counts().plot(kind='pie',\n",
        "                              figsize=(15,6),\n",
        "                               autopct=\"%1.1f%%\",\n",
        "                               startangle=90,\n",
        "                               shadow=True,\n",
        "                               labels=['No','Yes'],\n",
        "                               colors=['skyblue','red'],\n",
        "                               explode=[0,0]\n",
        "                              )\n"
      ],
      "metadata": {
        "id": "t6GMdE67YoAp"
      },
      "execution_count": null,
      "outputs": []
    },
    {
      "cell_type": "code",
      "source": [
        "# Two Digit Account Length\n",
        "print(dataset[(dataset['Account length']<=99) & (dataset['Account length']>=10)].loc[:,['Churn']].value_counts())\n",
        "print(\" \")\n",
        "\n",
        "# Visualizing Two Digit Account Length Based on Churn percentage\n",
        "dataset[(dataset['Account length']<=99) & (dataset['Account length']>=10)].loc[:,['Churn']].value_counts().plot(kind='pie',\n",
        "                              figsize=(15,6),\n",
        "                               autopct=\"%1.1f%%\",\n",
        "                               startangle=90,\n",
        "                               shadow=True,\n",
        "                               labels=['No','Yes'],\n",
        "                               colors=['skyblue','red'],\n",
        "                               explode=[0,0]\n",
        "                              )"
      ],
      "metadata": {
        "id": "V0RYBhVwOz4R"
      },
      "execution_count": null,
      "outputs": []
    },
    {
      "cell_type": "code",
      "source": [
        "# Three Digit Account Length\n",
        "print(dataset[(dataset['Account length']<=dataset['Account length'].max()) & (dataset['Account length']>=100)].loc[:,['Churn']].value_counts())\n",
        "print(\" \")\n",
        "\n",
        "# Visualizing Three Digit Account Length Based on Churn percentage\n",
        "dataset[(dataset['Account length']<=dataset['Account length'].max()) & (dataset['Account length']>=100)].loc[:,['Churn']].value_counts().plot(kind='pie',\n",
        "                              figsize=(15,6),\n",
        "                               autopct=\"%1.1f%%\",\n",
        "                               startangle=90,\n",
        "                               shadow=True,\n",
        "                               labels=['No','Yes'],\n",
        "                               colors=['skyblue','red'],\n",
        "                               explode=[0,0]\n",
        "                              )"
      ],
      "metadata": {
        "id": "z-mXVM6TO4N0"
      },
      "execution_count": null,
      "outputs": []
    },
    {
      "cell_type": "markdown",
      "source": [
        "##### 1. Why did you pick the specific chart?"
      ],
      "metadata": {
        "id": "fge-S5ZAYoAp"
      }
    },
    {
      "cell_type": "markdown",
      "source": [
        "A pie chart expresses a part-to-whole relationship in your data. It's easy to explain the percentage comparison through area covered in a circle with different colors. Where differenet percentage comparison comes into action pie chart is used frequently. So, I used Pie chart and which helped me to get the percentage comparision of the churn percentage account length wise.\n",
        "\n",
        "Box plots are used to show distributions of numeric data values, especially when you want to compare them between multiple groups. They are built to provide high-level information at a glance, offering general information about a group of data's symmetry, skew, variance, and outliers. So, I used box plot to get the maximum and minimum value with well sagreggated outliers with well defined mean and median as shown in the box plot graph."
      ],
      "metadata": {
        "id": "5dBItgRVYoAp"
      }
    },
    {
      "cell_type": "markdown",
      "source": [
        "##### 2. What is/are the insight(s) found from the chart?"
      ],
      "metadata": {
        "id": "85gYPyotYoAp"
      }
    },
    {
      "cell_type": "markdown",
      "source": [
        "**Account Length**\n",
        "\n",
        "We can catagories Account Length into three catagories like\n",
        "\n",
        "**One Digit Length**\n",
        "\n",
        "Churn True -8.3%\n",
        "\n",
        "No. of Churn True-2\n",
        "\n",
        "Churn False-91.7%\n",
        "\n",
        "**Two Digit Length**\n",
        "\n",
        "Churn True -14.0%\n",
        "\n",
        "No. of Churn True-225\n",
        "\n",
        "Churn False-86.0%\n",
        "\n",
        "Three Digit Length\n",
        "\n",
        "Churn True -15.0%\n",
        "\n",
        "No. of Churn True-256\n",
        "\n",
        "Churn False-85.0%\n",
        "\n",
        "**REMARK**\n",
        "\n",
        "AS from the above record, we can see that Two digit Account Length customers are churning with a number of 225 And Three digit Account Length customers are churning with a number of 256"
      ],
      "metadata": {
        "id": "4jstXR6OYoAp"
      }
    },
    {
      "cell_type": "markdown",
      "source": [
        "##### 3. Will the gained insights help creating a positive business impact?\n",
        "Are there any insights that lead to negative growth? Justify with specific reason."
      ],
      "metadata": {
        "id": "RoGjAbkUYoAp"
      }
    },
    {
      "cell_type": "markdown",
      "source": [
        "Accoun length is the no. of days the customers are active. So for the new customers those churning rate is too low around 8.3% in percentage and number is 2. They might be just using the telecom service to experience the benefits and they might not be satisfied with the service provided and churned.\n",
        "\n",
        "Those people whose account length are between 10 to 99 are having a churning rate of 15%. The customers below 50 might be treated as new customers and more than 55 and less than 99 they mightn't be geting benefits from plan taken.\n",
        "\n",
        "Those people whise account length are more than 100 are like of old customers and they might be churning due to no additional offers given to them like power plus plan or other benefits.\n",
        "\n",
        "So, Yes Account Length is also depicting a clear view of churing reasons and inaights."
      ],
      "metadata": {
        "id": "zfJ8IqMcYoAp"
      }
    },
    {
      "cell_type": "markdown",
      "source": [
        "#### Chart - 4"
      ],
      "metadata": {
        "id": "4Of9eVA-YrdM"
      }
    },
    {
      "cell_type": "code",
      "source": [
        "# Chart - 4 visualization code\n",
        "# Area Code wise average churn Percentage\n",
        "print(dataset.groupby('Area code')['Churn'].mean()*100)\n",
        "print(\" \")\n",
        "\n",
        "# Visualizing code for Area Code wise average churn percentage\n",
        "a1= list(['408','415' , '510'])\n",
        "b1= dataset.groupby('Area code')['Churn'].mean()*100\n",
        "plt.bar(a1,b1, color=['r','b','g'])\n",
        "\n",
        "plt.rcParams['figure.figsize'] = (6, 5)\n",
        "\n",
        "\n",
        "plt.xlabel('Area code', fontsize = 15)\n",
        "plt.ylabel('churn percentage', fontsize = 15)\n",
        "plt.show()"
      ],
      "metadata": {
        "id": "irlUoxc8YrdO"
      },
      "execution_count": null,
      "outputs": []
    },
    {
      "cell_type": "markdown",
      "source": [
        "##### 1. Why did you pick the specific chart?"
      ],
      "metadata": {
        "id": "iky9q4vBYrdO"
      }
    },
    {
      "cell_type": "markdown",
      "source": [
        "Bar charts show the frequency counts of values for the different levels of a categorical or nominal variable. Sometimes, bar charts show other statistics, such as percentages.\n",
        "\n",
        "To show the average percentage of true churn with respect to Area Code, I have used Bar Chart."
      ],
      "metadata": {
        "id": "aJRCwT6DYrdO"
      }
    },
    {
      "cell_type": "markdown",
      "source": [
        "##### 2. What is/are the insight(s) found from the chart?"
      ],
      "metadata": {
        "id": "F6T5p64dYrdO"
      }
    },
    {
      "cell_type": "markdown",
      "source": [
        "All Area Code have around 14% Churn rate. So, Area Code doesn't matter."
      ],
      "metadata": {
        "id": "Xx8WAJvtYrdO"
      }
    },
    {
      "cell_type": "markdown",
      "source": [
        "##### 3. Will the gained insights help creating a positive business impact?\n",
        "Are there any insights that lead to negative growth? Justify with specific reason."
      ],
      "metadata": {
        "id": "y-Ehk30pYrdP"
      }
    },
    {
      "cell_type": "markdown",
      "source": [
        "No, Area Code doesn't have any contribution to churn rate for 14% churn rate is same for all the area codes. But while furthur sagreggating the area codes with respective states in those area code, it can be analysed the states in which the issue is happeing. So, it has been defined above.:\n",
        "\n",
        "So, here Area code won't help to create business impact but the respective states wise analysis can help."
      ],
      "metadata": {
        "id": "jLNxxz7MYrdP"
      }
    },
    {
      "cell_type": "markdown",
      "source": [
        "#### Chart - 5"
      ],
      "metadata": {
        "id": "bamQiAODYuh1"
      }
    },
    {
      "cell_type": "code",
      "source": [
        "# Chart - 5 visualization code\n",
        "# Visualizing Percentage of customers taken international plan\n",
        "dataset['International plan'].value_counts().plot(kind='pie',\n",
        "                              figsize=(15,6),\n",
        "                               autopct=\"%1.1f%%\",\n",
        "                               startangle=90,\n",
        "                               shadow=True,\n",
        "                               labels=['No','Yes'],\n",
        "                               colors=['skyblue','red'],\n",
        "                               explode=[0,0]\n",
        "                              )"
      ],
      "metadata": {
        "id": "TIJwrbroYuh3"
      },
      "execution_count": null,
      "outputs": []
    },
    {
      "cell_type": "code",
      "source": [
        "# Assigning values for furthur charts\n",
        "i1 = dataset['International plan'].unique()\n",
        "i2 = dataset.groupby('International plan')['Churn'].mean()*100\n",
        "i3 = dataset.groupby(['International plan'])['Total intl charge'].mean()\n",
        "i4 = dataset.groupby([\"Churn\"])['Total intl minutes'].mean()"
      ],
      "metadata": {
        "id": "0Qqx4uRlQ5cs"
      },
      "execution_count": null,
      "outputs": []
    },
    {
      "cell_type": "code",
      "source": [
        "# Visualizing code for people churning percentage having international plan\n",
        "plt.rcParams['figure.figsize'] = (3, 4)\n",
        "\n",
        "plt.bar(i1,i2 , color=['b','r'])\n",
        "\n",
        "plt.title(\" Percentage of people leaving\", fontsize = 20)\n",
        "plt.xlabel('International plan', fontsize = 15)\n",
        "plt.ylabel('percentage', fontsize = 15)\n",
        "plt.show()"
      ],
      "metadata": {
        "id": "Po1pErT8Q_vk"
      },
      "execution_count": null,
      "outputs": []
    },
    {
      "cell_type": "code",
      "source": [
        "# Visualizing code for average calling charge of customers having international plan\n",
        "plt.rcParams['figure.figsize'] = (3, 4)\n",
        "\n",
        "plt.bar(i1,i3, color=['b','r'])\n",
        "plt.title(\" Average charge of people\", fontsize = 20)\n",
        "plt.xlabel('International plan', fontsize = 15)\n",
        "plt.ylabel(' charge', fontsize = 15)\n",
        "plt.show()"
      ],
      "metadata": {
        "id": "Acb6XSNQRDKQ"
      },
      "execution_count": null,
      "outputs": []
    },
    {
      "cell_type": "code",
      "source": [
        "# Visualizing code for average minutes takled by customers having international plan\n",
        "plt.rcParams['figure.figsize'] = (3, 4)\n",
        "\n",
        "plt.bar(i1,i4, color=['b','r'])\n",
        "plt.title(\" Average minute people talk\", fontsize = 20)\n",
        "plt.xlabel('International plan', fontsize = 15)\n",
        "plt.ylabel(' Minutes', fontsize = 15)\n",
        "plt.show()"
      ],
      "metadata": {
        "id": "2ee85mcQRG2K"
      },
      "execution_count": null,
      "outputs": []
    },
    {
      "cell_type": "markdown",
      "source": [
        "##### 1. Why did you pick the specific chart?"
      ],
      "metadata": {
        "id": "QHF8YVU7Yuh3"
      }
    },
    {
      "cell_type": "markdown",
      "source": [
        "Pie charts are used to represent the proportional data or relative data in a single chart. The concept of pie slices is used to show the percentage of a particular data from the whole pie.\n",
        "\n",
        "Thus, I used to show the percentage of people taken international plan through pie chart with differentr colored area under a circle.\n",
        "\n",
        "A bar chart is used when you want to show a distribution of data points or perform a comparison of metric values across different subgroups of your data. From a bar chart, we can see which groups are highest or most common, and how other groups compare against the others.\n",
        "\n",
        "Thus, I used bar chart to show the percentage of customers churned having international plan and the avergae calling charge as well as conversation average minutes of customers those have international plan."
      ],
      "metadata": {
        "id": "dcxuIMRPYuh3"
      }
    },
    {
      "cell_type": "markdown",
      "source": [
        "##### 2. What is/are the insight(s) found from the chart?"
      ],
      "metadata": {
        "id": "GwzvFGzlYuh3"
      }
    },
    {
      "cell_type": "markdown",
      "source": [
        "INTERNATIONAL PLAN\n",
        "\n",
        "3010 dont have a international plan\n",
        "\n",
        "323 have a international plan\n",
        "\n",
        "Among those who have a international plan 42.4 % people churn.\n",
        "\n",
        "Whereas among those who dont have a international plan only 11.4 % people churn.\n",
        "\n",
        "Among those who have a international plan their average charge is 2.86 and they talk for 10.7 minutes average .\n",
        "\n",
        "Whereas among those who dont have a international plan their average charge is 2.75 and they talk for 10.15 minutes average .\n",
        "\n",
        "The reason why people having international plan might be leaving is that they are [paying same amount of money for international calls as for those customers who dont have a international plan.Hence they arent getting any benefits for having an international plan so they might be unhappy.\n",
        "\n",
        "**Customers with the International Plan tend to churn more frequently**"
      ],
      "metadata": {
        "id": "uyqkiB8YYuh3"
      }
    },
    {
      "cell_type": "markdown",
      "source": [
        "##### 3. Will the gained insights help creating a positive business impact?\n",
        "Are there any insights that lead to negative growth? Justify with specific reason."
      ],
      "metadata": {
        "id": "qYpmQ266Yuh3"
      }
    },
    {
      "cell_type": "markdown",
      "source": [
        "Yes, the insights found will definitely help for a positive business impact. Thsoe people who  have international plan they are paying some additional charges to get the plan but the talk time value charge is same as those customers having no international plan. That's might be great reason for more churns those having international plan.\n"
      ],
      "metadata": {
        "id": "_WtzZ_hCYuh4"
      }
    },
    {
      "cell_type": "markdown",
      "source": [
        "#### Chart - 6"
      ],
      "metadata": {
        "id": "OH-pJp9IphqM"
      }
    },
    {
      "cell_type": "code",
      "source": [
        "# Chart - 6 visualization code\n",
        "# Chart - 5 visualization code\n",
        "# vizualizing code for customers percentage having voice mail plan\n",
        "dataset['Voice mail plan'].value_counts().plot(kind='pie',\n",
        "                              figsize=(15,6),\n",
        "                               autopct=\"%1.1f%%\",\n",
        "                               startangle=90,\n",
        "                               shadow=True,\n",
        "                               labels=['No','Yes'],\n",
        "                               colors=['skyblue','red'],\n",
        "                               explode=[0,0]\n",
        "                              )"
      ],
      "metadata": {
        "id": "kuRf4wtuphqN"
      },
      "execution_count": null,
      "outputs": []
    },
    {
      "cell_type": "code",
      "source": [
        "# Vizualizing code for customers churning while having voice mail plan\n",
        "plt.rcParams['figure.figsize'] = (3, 4)\n",
        "\n",
        "cc1=list(['no','yes'])\n",
        "cc2=dataset.groupby('Voice mail plan')['Churn'].mean()*100\n",
        "plt.bar(cc1,cc2, color=['b','r'])\n",
        "\n",
        "plt.title(\" Percentage of people leaving\", fontsize = 20)\n",
        "plt.xlabel('Voice mail plan', fontsize = 15)\n",
        "plt.ylabel('percentage', fontsize = 15)\n",
        "plt.show()"
      ],
      "metadata": {
        "id": "XMVyA75wSpiL"
      },
      "execution_count": null,
      "outputs": []
    },
    {
      "cell_type": "markdown",
      "source": [
        "##### 1. Why did you pick the specific chart?"
      ],
      "metadata": {
        "id": "bbFf2-_FphqN"
      }
    },
    {
      "cell_type": "markdown",
      "source": [
        "\n",
        "Pie chart is a type of graph in which a circle is divided into sectors that each represents a proportion of the whole. Pie charts are a useful way to organize data in order to see the size of components relative to the whole, and are particularly good at showing percentage or proportional data.\n",
        "\n",
        "Pie chart is a type of graph in which a circle is divided into sectors that each represents a proportion of the whole. Pie charts are a useful way to organize data in order to see the size of components relative to the whole, and are particularly good at showing percentage or proportional data.\n",
        "\n",
        "Thus, I have used pie chart to show the percentage of customers having voice mail plan.\n",
        "\n",
        "The bar graph is used to compare the items between different groups over time. Bar graphs are used to measure the changes over a period of time.\n",
        "\n",
        "Thus, I have used bar chart to show the percentage of customers churned having voice mail plan."
      ],
      "metadata": {
        "id": "loh7H2nzphqN"
      }
    },
    {
      "cell_type": "markdown",
      "source": [
        "##### 2. What is/are the insight(s) found from the chart?"
      ],
      "metadata": {
        "id": "_ouA3fa0phqN"
      }
    },
    {
      "cell_type": "markdown",
      "source": [
        "**VOICE MAIL**\n",
        "\n",
        "2411 dont have a voice mail plan\n",
        "\n",
        "922 have a voice mail plan\n",
        "\n",
        "Among those who dont have a voice mail 16.7 % people churn.\n",
        "\n",
        "Whereas among those who have a voice mail plan only 8.7 % people churn.\n",
        "\n",
        "**Hypothesis Based on Voice Mail**\n",
        "* Customers sending less number of voicemails either as per their Requirement or There would be less Network Stability at that place for which they won't be able to send the voice message successfully.\n",
        "\n",
        "***Customers  with the Voice Mail Plan tend to churn less frequently ***"
      ],
      "metadata": {
        "id": "VECbqPI7phqN"
      }
    },
    {
      "cell_type": "markdown",
      "source": [
        "##### 3. Will the gained insights help creating a positive business impact?\n",
        "Are there any insights that lead to negative growth? Justify with specific reason."
      ],
      "metadata": {
        "id": "Seke61FWphqN"
      }
    },
    {
      "cell_type": "markdown",
      "source": [
        "Voice mail plan doesn't have that much impact in business untill the hypothesis has been proven. If the hypothesis remains true, we need to take care of the respective states where there is less network stability or the states the towers needs either maintainance or new towers should be installed.\n",
        "\n",
        "yes, voice mail plan might be considered partially."
      ],
      "metadata": {
        "id": "DW4_bGpfphqN"
      }
    },
    {
      "cell_type": "markdown",
      "source": [
        "#### Chart - 7"
      ],
      "metadata": {
        "id": "PIIx-8_IphqN"
      }
    },
    {
      "cell_type": "code",
      "source": [
        "# Chart - 7 visualization code\n",
        "# Geeting means of churn vs total day calls, total day minutes, total day charge\n",
        "print(dataset.groupby([\"Churn\"])['Total day calls'].mean())\n",
        "print(\" \")\n",
        "print(dataset.groupby([\"Churn\"])['Total day minutes'].mean())\n",
        "print(\" \")\n",
        "print(dataset.groupby([\"Churn\"])['Total day charge'].mean())\n",
        "\n",
        "# 18% more min    18% more charge    no insight"
      ],
      "metadata": {
        "id": "lqAIGUfyphqO"
      },
      "execution_count": null,
      "outputs": []
    },
    {
      "cell_type": "code",
      "source": [
        "# Vizualizing Total day minutes vs total day charge\n",
        "cdd = sns.scatterplot(x=\"Total day minutes\", y=\"Total day charge\", hue=\"Churn\", data=dataset)"
      ],
      "metadata": {
        "id": "rNg7UnuyTppB"
      },
      "execution_count": null,
      "outputs": []
    },
    {
      "cell_type": "code",
      "source": [
        "# Geeting means of churn vs total eve calls, total eve minutes, total evening charge\n",
        "print(dataset.groupby([\"Churn\"])['Total eve calls'].mean())\n",
        "print(\" \")\n",
        "print(dataset.groupby([\"Churn\"])['Total eve minutes'].mean())\n",
        "print(\" \")\n",
        "print(dataset.groupby([\"Churn\"])['Total eve charge'].mean())"
      ],
      "metadata": {
        "id": "OUYKADEXTtL7"
      },
      "execution_count": null,
      "outputs": []
    },
    {
      "cell_type": "code",
      "source": [
        "# Vizualizing total evening minutes vs total evening charge\n",
        "cdd = sns.scatterplot(x=\"Total eve minutes\", y=\"Total eve charge\", hue=\"Churn\", data=dataset)"
      ],
      "metadata": {
        "id": "pmrkq4PaTwQf"
      },
      "execution_count": null,
      "outputs": []
    },
    {
      "cell_type": "code",
      "source": [
        "# Getting means of churn vs total night calls, total m=night minutes, total night charge\n",
        "print(dataset.groupby([\"Churn\"])['Total night calls'].mean())\n",
        "print(\" \")\n",
        "print(dataset.groupby([\"Churn\"])['Total night minutes'].mean())\n",
        "print(\" \")\n",
        "print(dataset.groupby([\"Churn\"])['Total night charge'].mean())"
      ],
      "metadata": {
        "id": "i0r0ytY6TzGB"
      },
      "execution_count": null,
      "outputs": []
    },
    {
      "cell_type": "code",
      "source": [
        "# Vizualizing Total nights minutes vs total night charge\n",
        "cdd = sns.scatterplot(x=\"Total night minutes\", y=\"Total night charge\", hue=\"Churn\", data=dataset)"
      ],
      "metadata": {
        "id": "ma5CuTYUT2as"
      },
      "execution_count": null,
      "outputs": []
    },
    {
      "cell_type": "code",
      "source": [
        "# Import pandas library\n",
        "import pandas as pd\n",
        "\n",
        "# initialize list of lists\n",
        "data1 = [['Total day minutes',175.17 , 206.91], ['Total day charge',29.78, 35.17]]\n",
        "\n",
        "#7.012,6.12,6.86\n",
        "\n",
        "# Create the pandas DataFrame\n",
        "minutes_code1 = pd.DataFrame(data1, columns = ['day', 'dont churn',' churn'])\n",
        "\n",
        "# print dataframe.\n",
        "minutes_code1"
      ],
      "metadata": {
        "id": "wcKJ5p8eT5re"
      },
      "execution_count": null,
      "outputs": []
    },
    {
      "cell_type": "code",
      "source": [
        "# Vizualizing code for the above created dataframe\n",
        "plt.rcParams['figure.figsize'] = (8, 6)\n",
        "\n",
        "\n",
        "minutes_code1.plot(kind='bar', x='day',ylabel='mean  ')"
      ],
      "metadata": {
        "id": "rmrjhLNjT9f0"
      },
      "execution_count": null,
      "outputs": []
    },
    {
      "cell_type": "markdown",
      "source": [
        "##### 1. Why did you pick the specific chart?"
      ],
      "metadata": {
        "id": "t27r6nlMphqO"
      }
    },
    {
      "cell_type": "markdown",
      "source": [
        "A scatter plot (aka scatter chart, scatter graph) uses dots to represent values for two different numeric variables. The position of each dot on the horizontal and vertical axis indicates values for an individual data point. Scatter plots are used to observe relationships between variables.\n",
        "\n",
        "Thus, I have used the scatter plot to depict the relationship between evening, day &n night calls , minutes and charge.\n",
        "\n",
        "The bar graph is used to compare the items between different groups over time. Bar graphs are used to measure the changes over a period of time. When the changes are larger, a bar graph is the best option to represent the data.\n",
        "\n",
        "Thus, I have used the bar plot to show the evening, night and day manipulated data to depict meaningful insights."
      ],
      "metadata": {
        "id": "iv6ro40sphqO"
      }
    },
    {
      "cell_type": "markdown",
      "source": [
        "##### 2. What is/are the insight(s) found from the chart?"
      ],
      "metadata": {
        "id": "r2jJGEOYphqO"
      }
    },
    {
      "cell_type": "markdown",
      "source": [
        "**OVERALL CALLS**\n",
        "\n",
        "Churn customers speak more minutes that non-churn customers at day,evening and night. Hence they pay more charge that non-churn customers.\n",
        "\n",
        "We can retain churn customers if we include master plan. In master plan if a customer is talking more minutes then we can charge a little less amount from him or he can get discount or additional few free minutes to talk.\n",
        "\n",
        "This will make customers who are going to churn happy and they will not leave the company."
      ],
      "metadata": {
        "id": "Po6ZPi4hphqO"
      }
    },
    {
      "cell_type": "markdown",
      "source": [
        "##### 3. Will the gained insights help creating a positive business impact?\n",
        "Are there any insights that lead to negative growth? Justify with specific reason."
      ],
      "metadata": {
        "id": "b0JNsNcRphqO"
      }
    },
    {
      "cell_type": "markdown",
      "source": [
        "For telecom service provider calling and messaging are two essential product plans. Thus, optimizing voice call plans will definitely create a business impact. Those who are using just calling service must be provided som additional offers either in talktime or powerplus plan. Those who use voice call plan for night only, we might offer some exciting plans from midnight 12 to morning 6. For customers those who have higher accout length should be provided exciting offers as they are our loyal customers. churing of higher account length customer will have a negative impact on business.\n"
      ],
      "metadata": {
        "id": "xvSq8iUTphqO"
      }
    },
    {
      "cell_type": "markdown",
      "source": [
        "#### Chart - 8"
      ],
      "metadata": {
        "id": "BZR9WyysphqO"
      }
    },
    {
      "cell_type": "code",
      "source": [
        "# Chart - 8 visualization code\n",
        "# Visualizing churn rate per customer service calls\n",
        "plt.rcParams['figure.figsize'] = (12, 8)\n",
        "\n",
        "\n",
        "s1=list(dataset['Customer service calls'].unique())\n",
        "s2=list(dataset.groupby(['Customer service calls'])['Churn'].mean()*100)\n",
        "plt.bar(s1,s2, color = ['violet','indigo','b','g','y','orange','r'])\n",
        "\n",
        "\n",
        "plt.title(\" Churn rate per service call\", fontsize = 20)\n",
        "plt.xlabel('No of cust service call', fontsize = 15)\n",
        "plt.ylabel(' percentage', fontsize = 15)\n",
        "plt.show()"
      ],
      "metadata": {
        "id": "TdPTWpAVphqO"
      },
      "execution_count": null,
      "outputs": []
    },
    {
      "cell_type": "markdown",
      "source": [
        "##### 1. Why did you pick the specific chart?"
      ],
      "metadata": {
        "id": "jj7wYXLtphqO"
      }
    },
    {
      "cell_type": "markdown",
      "source": [
        "The bar graph is used to compare the items between different groups over time. Bar graphs are used to measure the changes over a period of time. When the changes are larger, a bar graph is the best option to represent the data.\n",
        "\n",
        "Thus, I have used the bar plot to show the relationship between churn rate per customer service calls."
      ],
      "metadata": {
        "id": "Ob8u6rCTphqO"
      }
    },
    {
      "cell_type": "markdown",
      "source": [
        "##### 2. What is/are the insight(s) found from the chart?"
      ],
      "metadata": {
        "id": "eZrbJ2SmphqO"
      }
    },
    {
      "cell_type": "markdown",
      "source": [
        "**CUSTOMER SERVICE CALL**\n",
        "\n",
        "The service calls of customers varies from 0 to 9 .\n",
        "\n",
        "Those customers who make more service calls they have a high probability of leaving.\n",
        "\n",
        "As we can see from graph , customers with more then 5 service calls their probability of leaving is more then 50 %.\n",
        "\n",
        "Hence customers who make more then 5 service calls, their queries should be solved immediately and they should be given better service so that they dont leave the company.\n",
        "\n",
        "***Customers with four or more customer service calls churn more than four times as often as do the other customers***"
      ],
      "metadata": {
        "id": "mZtgC_hjphqO"
      }
    },
    {
      "cell_type": "markdown",
      "source": [
        "##### 3. Will the gained insights help creating a positive business impact?\n",
        "Are there any insights that lead to negative growth? Justify with specific reason."
      ],
      "metadata": {
        "id": "rFu4xreNphqO"
      }
    },
    {
      "cell_type": "markdown",
      "source": [
        "Customer service is an essential factor for every business. SO definitely good customer service will have a positive impact to the business. We have to look afted the customer calls and customer query report resolution duration. Need to optimize the time period. If one type of issue is coming from more than 5 customers, root cause analysis should be done on that same issue and should be resolved for everyone.\n",
        "Need to reduce the calls for each customer and he should be satisfied in a single call only. The customer service agents should be given great offer or recognition over great performance of customer issue resolution."
      ],
      "metadata": {
        "id": "ey_0qi68phqO"
      }
    },
    {
      "cell_type": "markdown",
      "source": [
        "#### Chart - 9"
      ],
      "metadata": {
        "id": "YJ55k-q6phqO"
      }
    },
    {
      "cell_type": "code",
      "source": [
        "# Chart - 9 visualization code\n",
        "# Visualizing code of hist plot for each columns to know the data distibution\n",
        "for col in dataset.describe().columns:\n",
        "  fig=plt.figure(figsize=(9,6))\n",
        "  ax=fig.gca()\n",
        "  feature= (dataset[col])\n",
        "  sns.distplot(dataset[col])\n",
        "  ax.axvline(feature.mean(),color='magenta', linestyle='dashed', linewidth=2)\n",
        "  ax.axvline(feature.median(),color='cyan', linestyle='dashed', linewidth=2)\n",
        "  ax.set_title(col)\n",
        "plt.show()\n",
        "\n",
        "# Visualizing code of box plot for each columns to know the data distibution\n",
        "for col in dataset.describe().columns:\n",
        "    fig = plt.figure(figsize=(9, 6))\n",
        "    ax = fig.gca()\n",
        "    dataset.boxplot( col, ax = ax)\n",
        "    ax.set_title('Label by ' + col)\n",
        "    #ax.set_ylabel(\"Churn\")\n",
        "plt.show()"
      ],
      "metadata": {
        "id": "B2aS4O1ophqO"
      },
      "execution_count": null,
      "outputs": []
    },
    {
      "cell_type": "markdown",
      "source": [
        "##### 1. Why did you pick the specific chart?"
      ],
      "metadata": {
        "id": "gCFgpxoyphqP"
      }
    },
    {
      "cell_type": "markdown",
      "source": [
        "The histogram is a popular graphing tool. It is used to summarize discrete or continuous data that are measured on an interval scale. It is often used to illustrate the major features of the distribution of the data in a convenient form. It is also useful when dealing with large data sets (greater than 100 observations). It can help detect any unusual observations (outliers) or any gaps in the data.\n",
        "\n",
        "Thus, I used the histogram plot to analysis the variable distributions over the whole dataset whether it's symmetric or not.\n",
        "\n",
        "Box plots are used to show distributions of numeric data values, especially when you want to compare them between multiple groups. They are built to provide high-level information at a glance, offering general information about a group of data's symmetry, skew, variance, and outliers.\n",
        "\n",
        "Thus, for each numerical varibale in the given dataset, I used box plot to analyse the outliers and interquartile range including mean, median, maximum and minimum value."
      ],
      "metadata": {
        "id": "TVxDimi2phqP"
      }
    },
    {
      "cell_type": "markdown",
      "source": [
        "##### 2. What is/are the insight(s) found from the chart?"
      ],
      "metadata": {
        "id": "OVtJsKN_phqQ"
      }
    },
    {
      "cell_type": "markdown",
      "source": [
        "Almost all columns are symmetric distributed and mean is nearly same with median for numerical columns. Here Area code will be treated as text values as there are only 3 values in the particular column."
      ],
      "metadata": {
        "id": "ngGi97qjphqQ"
      }
    },
    {
      "cell_type": "markdown",
      "source": [
        "##### 3. Will the gained insights help creating a positive business impact?\n",
        "Are there any insights that lead to negative growth? Justify with specific reason."
      ],
      "metadata": {
        "id": "lssrdh5qphqQ"
      }
    },
    {
      "cell_type": "markdown",
      "source": [
        "Just a histogram and box plot cannot define business impact. It's done just to see the distribution of the column data over the dataset."
      ],
      "metadata": {
        "id": "tBpY5ekJphqQ"
      }
    },
    {
      "cell_type": "markdown",
      "source": [
        "#### Chart - 10"
      ],
      "metadata": {
        "id": "U2RJ9gkRphqQ"
      }
    },
    {
      "cell_type": "code",
      "source": [
        "# Import pandas library\n",
        "import pandas as pd\n",
        "\n",
        "# initialize list of lists\n",
        "data2 = [ ['Total eve minutes',199.04, 212.41], ['Total night minutes',200.13,205.23]]\n",
        "\n",
        "#7.012,6.12,6.86\n",
        "\n",
        "# Create the pandas DataFrame\n",
        "minutes_code2 = pd.DataFrame(data2, columns = ['minutes', 'dont churn',' churn'])\n",
        "\n",
        "# print dataframe.\n",
        "minutes_code2"
      ],
      "metadata": {
        "id": "GM7a4YP4phqQ"
      },
      "execution_count": null,
      "outputs": []
    },
    {
      "cell_type": "code",
      "source": [
        "# Vizualizing teh above created dataframe\n",
        "plt.rcParams['figure.figsize'] = (8,6)\n",
        "\n",
        "\n",
        "minutes_code2.plot(kind='bar', x='minutes',xlabel='minutes',ylabel='mean of churn ')"
      ],
      "metadata": {
        "id": "_dqGfIT8bUen"
      },
      "execution_count": null,
      "outputs": []
    },
    {
      "cell_type": "markdown",
      "source": [
        "##### 1. Why did you pick the specific chart?"
      ],
      "metadata": {
        "id": "1M8mcRywphqQ"
      }
    },
    {
      "cell_type": "markdown",
      "source": [
        "A scatter plot (aka scatter chart, scatter graph) uses dots to represent values for two different numeric variables. The position of each dot on the horizontal and vertical axis indicates values for an individual data point. Scatter plots are used to observe relationships between variables.\n",
        "\n",
        "Thus, I have used the scatter plot to depict the relationship between evening, day &n night calls , minutes and charge.\n",
        "\n",
        "The bar graph is used to compare the items between different groups over time. Bar graphs are used to measure the changes over a period of time. When the changes are larger, a bar graph is the best option to represent the data.\n",
        "\n",
        "Thus, I have used the bar plot to show the evening, night and day manipulated data to depict meaningful insights."
      ],
      "metadata": {
        "id": "8agQvks0phqQ"
      }
    },
    {
      "cell_type": "markdown",
      "source": [
        "##### 2. What is/are the insight(s) found from the chart?"
      ],
      "metadata": {
        "id": "tgIPom80phqQ"
      }
    },
    {
      "cell_type": "markdown",
      "source": [
        "**OVERALL CALLS**\n",
        "\n",
        "Churn customers speak more minutes that non-churn customers at day,evening and night. Hence they pay more charge that non-churn customers.\n",
        "\n",
        "We can retain churn customers if we include master plan.\n",
        "In master plan if a customer is talking more minutes then we can charge a little less amount from him or he can get discount or additional few free minutes to talk.\n",
        "\n",
        "This will make customers who are going to churn happy and they will not leave the company."
      ],
      "metadata": {
        "id": "Qp13pnNzphqQ"
      }
    },
    {
      "cell_type": "markdown",
      "source": [
        "##### 3. Will the gained insights help creating a positive business impact?\n",
        "Are there any insights that lead to negative growth? Justify with specific reason."
      ],
      "metadata": {
        "id": "JMzcOPDDphqR"
      }
    },
    {
      "cell_type": "markdown",
      "source": [
        "For telecom service provider calling and messaging are two essential product plans. Thus, optimizing voice call plans will definitely create a business impact. Those who are using just calling service must be provided som additional offers either in talktime or powerplus plan. Those who use voice call plan for night only, we might offer some exciting plans from midnight 12 to morning 6. For customers those who have higher accout length should be provided exciting offers as they are our loyal customers. churing of higher account length customer will have a negative impact on business.\n"
      ],
      "metadata": {
        "id": "R4Ka1PC2phqR"
      }
    },
    {
      "cell_type": "markdown",
      "source": [
        "#### Chart - 11"
      ],
      "metadata": {
        "id": "x-EpHcCOp1ci"
      }
    },
    {
      "cell_type": "code",
      "source": [
        "# Import pandas library\n",
        "import pandas as pd\n",
        "\n",
        "# initialize list of lists\n",
        "data3 = [ ['Total eve charge',16.91, 18.05], ['Total night charge',9,9.23]]\n",
        "\n",
        "#7.012,6.12,6.86\n",
        "\n",
        "# Create the pandas DataFrame\n",
        "minutes_code3 = pd.DataFrame(data3, columns = ['charge', 'dont churn',' churn'])\n",
        "\n",
        "# print dataframe.\n",
        "minutes_code3"
      ],
      "metadata": {
        "id": "mAQTIvtqp1cj"
      },
      "execution_count": null,
      "outputs": []
    },
    {
      "cell_type": "code",
      "source": [
        "# Vizualizing code for the above dataset\n",
        "plt.rcParams['figure.figsize'] = (8,6)\n",
        "\n",
        "\n",
        "minutes_code3.plot(kind='bar', x='charge',ylabel='mean charge')"
      ],
      "metadata": {
        "id": "gGCh1TcAaxzZ"
      },
      "execution_count": null,
      "outputs": []
    },
    {
      "cell_type": "markdown",
      "source": [
        "##### 1. Why did you pick the specific chart?"
      ],
      "metadata": {
        "id": "X_VqEhTip1ck"
      }
    },
    {
      "cell_type": "markdown",
      "source": [
        "A scatter plot (aka scatter chart, scatter graph) uses dots to represent values for two different numeric variables. The position of each dot on the horizontal and vertical axis indicates values for an individual data point. Scatter plots are used to observe relationships between variables.\n",
        "\n",
        "Thus, I have used the scatter plot to depict the relationship between evening, day &n night calls , minutes and charge.\n",
        "\n",
        "The bar graph is used to compare the items between different groups over time. Bar graphs are used to measure the changes over a period of time. When the changes are larger, a bar graph is the best option to represent the data.\n",
        "\n",
        "Thus, I have used the bar plot to show the evening, night and day manipulated data to depict meaningful insights."
      ],
      "metadata": {
        "id": "-vsMzt_np1ck"
      }
    },
    {
      "cell_type": "markdown",
      "source": [
        "##### 2. What is/are the insight(s) found from the chart?"
      ],
      "metadata": {
        "id": "8zGJKyg5p1ck"
      }
    },
    {
      "cell_type": "markdown",
      "source": [
        "**OVERALL CALLS**\n",
        "\n",
        "Churn customers speak more minutes that non-churn customers at day,evening and night. Hence they pay more charge that non-churn customers.\n",
        "\n",
        "We can retain churn customers if we include master plan.\n",
        "In master plan if a customer is talking more minutes then we can charge a little less amount from him or he can get discount or additional few free minutes to talk.\n",
        "\n",
        "This will make customers who are going to churn happy and they will not leave the company."
      ],
      "metadata": {
        "id": "ZYdMsrqVp1ck"
      }
    },
    {
      "cell_type": "markdown",
      "source": [
        "##### 3. Will the gained insights help creating a positive business impact?\n",
        "Are there any insights that lead to negative growth? Justify with specific reason."
      ],
      "metadata": {
        "id": "PVzmfK_Ep1ck"
      }
    },
    {
      "cell_type": "markdown",
      "source": [
        "For telecom service provider calling and messaging are two essential product plans. Thus, optimizing voice call plans will definitely create a business impact. Those who are using just calling service must be provided som additional offers either in talktime or powerplus plan. Those who use voice call plan for night only, we might offer some exciting plans from midnight 12 to morning 6. For customers those who have higher accout length should be provided exciting offers as they are our loyal customers. churing of higher account length customer will have a negative impact on business.\n"
      ],
      "metadata": {
        "id": "druuKYZpp1ck"
      }
    },
    {
      "cell_type": "markdown",
      "source": [
        "#### Chart - 12"
      ],
      "metadata": {
        "id": "n3dbpmDWp1ck"
      }
    },
    {
      "cell_type": "code",
      "source": [
        "# Chart - 12 visualization code\n",
        "# Visualizing churn rate per customer service calls\n",
        "plt.rcParams['figure.figsize'] = (12, 8)\n",
        "\n",
        "\n",
        "s1=list(dataset['Customer service calls'].unique())\n",
        "s2=list(dataset.groupby(['Customer service calls'])['Churn'].mean()*100)\n",
        "plt.bar(s1,s2, color = ['violet','indigo','b','g','y','orange','r'])\n",
        "\n",
        "\n",
        "plt.title(\" Churn rate per service call\", fontsize = 20)\n",
        "plt.xlabel('No of cust service call', fontsize = 15)\n",
        "plt.ylabel(' percentage', fontsize = 15)\n",
        "plt.show()"
      ],
      "metadata": {
        "id": "bwevp1tKp1ck"
      },
      "execution_count": null,
      "outputs": []
    },
    {
      "cell_type": "markdown",
      "source": [
        "##### 1. Why did you pick the specific chart?"
      ],
      "metadata": {
        "id": "ylSl6qgtp1ck"
      }
    },
    {
      "cell_type": "markdown",
      "source": [
        "The bar graph is used to compare the items between different groups over time. Bar graphs are used to measure the changes over a period of time. When the changes are larger, a bar graph is the best option to represent the data.\n",
        "\n",
        "Thus, I have used the bar plot to show the relationship between churn rate per customer service calls."
      ],
      "metadata": {
        "id": "m2xqNkiQp1ck"
      }
    },
    {
      "cell_type": "markdown",
      "source": [
        "##### 2. What is/are the insight(s) found from the chart?"
      ],
      "metadata": {
        "id": "ZWILFDl5p1ck"
      }
    },
    {
      "cell_type": "markdown",
      "source": [
        "**CUSTOMER SERVICE CALL**\n",
        "\n",
        "The service calls of customers varies from 0 to 9 .\n",
        "\n",
        "Those customers who make more service calls they have a high probability of leaving.\n",
        "\n",
        "As we can see from graph , customers with more then 5 service calls their probability of leaving is more then 50 %.\n",
        "\n",
        "Hence customers who make more then 5 service calls, their queries should be solved immediately and they should be given better service so that they dont leave the company.\n",
        "\n",
        "***Customers with four or more customer service calls churn more than four times as often as do the other customers***"
      ],
      "metadata": {
        "id": "x-lUsV2mp1ck"
      }
    },
    {
      "cell_type": "markdown",
      "source": [
        "##### 3. Will the gained insights help creating a positive business impact?\n",
        "Are there any insights that lead to negative growth? Justify with specific reason."
      ],
      "metadata": {
        "id": "M7G43BXep1ck"
      }
    },
    {
      "cell_type": "markdown",
      "source": [
        "Customer service is an essential factor for every business. SO definitely good customer service will have a positive impact to the business. We have to look afted the customer calls and customer query report resolution duration. Need to optimize the time period. If one type of issue is coming from more than 5 customers, root cause analysis should be done on that same issue and should be resolved for everyone.\n",
        "Need to reduce the calls for each customer and he should be satisfied in a single call only. The customer service agents should be given great offer or recognition over great performance of customer issue resolution."
      ],
      "metadata": {
        "id": "5wwDJXsLp1cl"
      }
    },
    {
      "cell_type": "markdown",
      "source": [
        "#### Chart - 13"
      ],
      "metadata": {
        "id": "Ag9LCva-p1cl"
      }
    },
    {
      "cell_type": "code",
      "source": [
        "# Chart - 9 visualization code\n",
        "# Visualizing code of hist plot for each columns to know the data distibution\n",
        "for col in dataset.describe().columns:\n",
        "  fig=plt.figure(figsize=(9,6))\n",
        "  ax=fig.gca()\n",
        "  feature= (dataset[col])\n",
        "  sns.distplot(dataset[col])\n",
        "  ax.axvline(feature.mean(),color='magenta', linestyle='dashed', linewidth=2)\n",
        "  ax.axvline(feature.median(),color='cyan', linestyle='dashed', linewidth=2)\n",
        "  ax.set_title(col)\n",
        "plt.show()\n",
        "\n",
        "# Visualizing code of box plot for each columns to know the data distibution\n",
        "for col in dataset.describe().columns:\n",
        "    fig = plt.figure(figsize=(9, 6))\n",
        "    ax = fig.gca()\n",
        "    dataset.boxplot( col, ax = ax)\n",
        "    ax.set_title('Label by ' + col)\n",
        "    #ax.set_ylabel(\"Churn\")\n",
        "plt.show()"
      ],
      "metadata": {
        "id": "EUfxeq9-p1cl"
      },
      "execution_count": null,
      "outputs": []
    },
    {
      "cell_type": "markdown",
      "source": [
        "##### 1. Why did you pick the specific chart?"
      ],
      "metadata": {
        "id": "E6MkPsBcp1cl"
      }
    },
    {
      "cell_type": "markdown",
      "source": [
        "The histogram is a popular graphing tool. It is used to summarize discrete or continuous data that are measured on an interval scale. It is often used to illustrate the major features of the distribution of the data in a convenient form. It is also useful when dealing with large data sets (greater than 100 observations). It can help detect any unusual observations (outliers) or any gaps in the data.\n",
        "\n",
        "Thus, I used the histogram plot to analysis the variable distributions over the whole dataset whether it's symmetric or not.\n",
        "\n",
        "Box plots are used to show distributions of numeric data values, especially when you want to compare them between multiple groups. They are built to provide high-level information at a glance, offering general information about a group of data's symmetry, skew, variance, and outliers.\n",
        "\n",
        "Thus, for each numerical varibale in the given dataset, I used box plot to analyse the outliers and interquartile range including mean, median, maximum and minimum value."
      ],
      "metadata": {
        "id": "V22bRsFWp1cl"
      }
    },
    {
      "cell_type": "markdown",
      "source": [
        "##### 2. What is/are the insight(s) found from the chart?"
      ],
      "metadata": {
        "id": "2cELzS2fp1cl"
      }
    },
    {
      "cell_type": "markdown",
      "source": [
        "Almost all columns are symmetric distributed and mean is nearly same with median for numerical columns. Here Area code will be treated as text values as there are only 3 values in the particular column."
      ],
      "metadata": {
        "id": "ozQPc2_Ip1cl"
      }
    },
    {
      "cell_type": "markdown",
      "source": [
        "##### 3. Will the gained insights help creating a positive business impact?\n",
        "Are there any insights that lead to negative growth? Justify with specific reason."
      ],
      "metadata": {
        "id": "3MPXvC8up1cl"
      }
    },
    {
      "cell_type": "markdown",
      "source": [
        "Just a histogram and box plot cannot define business impact. It's done just to see the distribution of the column data over the dataset.\n"
      ],
      "metadata": {
        "id": "GL8l1tdLp1cl"
      }
    },
    {
      "cell_type": "markdown",
      "source": [
        "#### Chart - 14 - Correlation Heatmap"
      ],
      "metadata": {
        "id": "NC_X3p0fY2L0"
      }
    },
    {
      "cell_type": "code",
      "source": [
        "# Correlation Heatmap visualization code\n",
        "corr = dataset.corr()\n",
        "cmap = cmap=sns.diverging_palette(5, 250, as_cmap=True)\n",
        "\n",
        "def magnify():\n",
        "    return [dict(selector=\"th\",\n",
        "                 props=[(\"font-size\", \"7pt\")]),\n",
        "            dict(selector=\"td\",\n",
        "                 props=[('padding', \"0em 0em\")]),\n",
        "            dict(selector=\"th:hover\",\n",
        "                 props=[(\"font-size\", \"12pt\")]),\n",
        "            dict(selector=\"tr:hover td:hover\",\n",
        "                 props=[('max-width', '200px'),\n",
        "                        ('font-size', '12pt')])\n",
        "]\n",
        "\n",
        "corr.style.background_gradient(cmap, axis=1)\\\n",
        "    .set_properties(**{'max-width': '80px', 'font-size': '10pt'})\\\n",
        "    .set_caption(\"Hover to magify\")\\\n",
        "    .set_precision(2)\\\n",
        "    .set_table_styles(magnify())"
      ],
      "metadata": {
        "id": "xyC9zolEZNRQ"
      },
      "execution_count": null,
      "outputs": []
    },
    {
      "cell_type": "markdown",
      "source": [
        "##### 1. Why did you pick the specific chart?"
      ],
      "metadata": {
        "id": "UV0SzAkaZNRQ"
      }
    },
    {
      "cell_type": "markdown",
      "source": [
        "\n",
        "A correlation matrix is a table showing correlation coefficients between variables. Each cell in the table shows the correlation between two variables. A correlation matrix is used to summarize data, as an input into a more advanced analysis, and as a diagnostic for advanced analyses. The range of correlation is [-1,1].\n",
        "\n",
        "Thus to know the correlation between all the variables along with the correlation coeficients, i used correlation heatmap."
      ],
      "metadata": {
        "id": "DVPuT8LYZNRQ"
      }
    },
    {
      "cell_type": "markdown",
      "source": [
        "##### 2. What is/are the insight(s) found from the chart?"
      ],
      "metadata": {
        "id": "YPEH6qLeZNRQ"
      }
    },
    {
      "cell_type": "markdown",
      "source": [
        "From the above correlation heatmap, we can see total day charge & total day minute, total evening charge & total evening minute, total night charge & total night minute are positiveliy highly correlated with a value of 1.\n",
        "\n",
        "Customer service call is positively correlated only with area code and negative correlated with rest variables.\n",
        "\n",
        "Rest all correlation can be depicted from the above chart."
      ],
      "metadata": {
        "id": "bfSqtnDqZNRR"
      }
    },
    {
      "cell_type": "markdown",
      "source": [
        "#### Chart - 15 - Pair Plot"
      ],
      "metadata": {
        "id": "q29F0dvdveiT"
      }
    },
    {
      "cell_type": "code",
      "source": [
        "# Pair Plot visualization code\n",
        "sns.pairplot(dataset, hue=\"Churn\")"
      ],
      "metadata": {
        "id": "o58-TEIhveiU"
      },
      "execution_count": null,
      "outputs": []
    },
    {
      "cell_type": "markdown",
      "source": [
        "##### 1. Why did you pick the specific chart?"
      ],
      "metadata": {
        "id": "EXh0U9oCveiU"
      }
    },
    {
      "cell_type": "markdown",
      "source": [
        "Pair plot is used to understand the best set of features to explain a relationship between two variables or to form the most separated clusters. It also helps to form some simple classification models by drawing some simple lines or make linear separation in our data-set.\n",
        "\n",
        "Thus, I used pair plot to analyse the patterns of data and realationship between the features. It's exactly same as the correlation map but here you will get the graphical representation."
      ],
      "metadata": {
        "id": "eMmPjTByveiU"
      }
    },
    {
      "cell_type": "markdown",
      "source": [
        "##### 2. What is/are the insight(s) found from the chart?"
      ],
      "metadata": {
        "id": "22aHeOlLveiV"
      }
    },
    {
      "cell_type": "markdown",
      "source": [
        "From the above chart I got to know, there are less linear relationship between variables and data poiunts aren't linearly separable. Churned customers data is clusetered and ovearlapped each other. Non churn data are quite symmetrical in nature and churned customer data are quite non symmetric in nature. In this whole pair plot, the importance of area code can be seen and the number of churn with respect to different features are really insightful. Rest insights can be depicted from the above graph."
      ],
      "metadata": {
        "id": "uPQ8RGwHveiV"
      }
    },
    {
      "cell_type": "markdown",
      "source": [
        "## **5. Solution to Business Objective**"
      ],
      "metadata": {
        "id": "JcMwzZxoAimU"
      }
    },
    {
      "cell_type": "markdown",
      "source": [
        "#### What do you suggest the client to achieve Business Objective ?\n",
        "Explain Briefly."
      ],
      "metadata": {
        "id": "8G2x9gOozGDZ"
      }
    },
    {
      "cell_type": "markdown",
      "source": [
        "Modify International Plan as the charge is same as normal one.\n",
        "\n",
        "Be proactive with communication.\n",
        "\n",
        "Ask for feedback often.\n",
        "\n",
        "Periodically throw Offers to retain customers.\n",
        "\n",
        "Look at the customers facing problem in the most churning states.\n",
        "\n",
        "Lean into best customers.\n",
        "\n",
        "Regular Server Maintenance.\n",
        "\n",
        "Solving Poor Network Connectivity Issue.\n",
        "\n",
        "Define a roadmap for new customers.\n",
        "\n",
        "Analyze churn when it happens.\n",
        "\n",
        "Stay competitive."
      ],
      "metadata": {
        "id": "pASKb0qOza21"
      }
    },
    {
      "cell_type": "markdown",
      "source": [
        "# **Conclusion**"
      ],
      "metadata": {
        "id": "gCX9965dhzqZ"
      }
    },
    {
      "cell_type": "markdown",
      "source": [
        "• The four charge fields are linear functions of the minute fields.\n",
        "\n",
        "• The area code field and/or the state field are anomalous, and can be omitted.\n",
        "\n",
        "• Customers with the International Plan tend to churn more frequently.\n",
        "\n",
        "• Customers with four or more customer service calls churn more than four times as often as do the other customers.\n",
        "\n",
        "• Customers with high day minutes and evening minutes tend to churn at a higher rate than do the other customers.\n",
        "\n",
        "• There is no obvious association of churn with the variables day calls, evening calls, night calls, international calls, night minutes, international minutes, account length, or voice mail messages."
      ],
      "metadata": {
        "id": "Fjb1IsQkh3yE"
      }
    },
    {
      "cell_type": "markdown",
      "source": [
        "### ***Hurrah! You have successfully completed your EDA Capstone Project !!!***"
      ],
      "metadata": {
        "id": "gIfDvo9L0UH2"
      }
    }
  ]
}